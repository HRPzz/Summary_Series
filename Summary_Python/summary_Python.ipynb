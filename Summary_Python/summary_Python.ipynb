{
 "cells": [
  {
   "cell_type": "markdown",
   "metadata": {},
   "source": [
    "# Summary_Python"
   ]
  },
  {
   "cell_type": "markdown",
   "metadata": {},
   "source": [
    "## [1]"
   ]
  },
  {
   "cell_type": "markdown",
   "metadata": {},
   "source": [
    "### 파이썬 설치\n",
    "- Python 3.7.4\n",
    "- Anaconda\n",
    "- 구름IDE"
   ]
  },
  {
   "cell_type": "markdown",
   "metadata": {},
   "source": [
    "## [2]"
   ]
  },
  {
   "cell_type": "markdown",
   "metadata": {},
   "source": [
    "### 주석\n",
    "- 코드 단위 주석을 달 때에는 # 을 사용합니다.\n",
    "- 블록 단위 주석은 작은 따옴표, 또는 큰 따옴표 3개를 앞뒤로 답니다.\n",
    "    - 들여쓰기로 어느 함수/클래스의 주석인지 구분해줘야 함"
   ]
  },
  {
   "cell_type": "code",
   "execution_count": 1,
   "metadata": {},
   "outputs": [
    {
     "data": {
      "text/plain": [
       "'\\nhello world\\nhello world\\n'"
      ]
     },
     "execution_count": 1,
     "metadata": {},
     "output_type": "execute_result"
    }
   ],
   "source": [
    "# hello world\n",
    "\n",
    "'''\n",
    "hello world\n",
    "hello world\n",
    "'''\n",
    "\n",
    "\"\"\"\n",
    "hello world\n",
    "hello world\n",
    "\"\"\""
   ]
  },
  {
   "cell_type": "markdown",
   "metadata": {},
   "source": [
    "### 변수\n",
    "- 영문과 숫자를 사용할 수 있지만, 숫자로 시작하지는 못합니다.\n",
    "- 특수문자는 사용하지 않아요. 언더바(_)는 사용합니다.\n",
    "- 예약어는 사용하지 않습니다. (if, else, elif, while, for, etc)\n",
    "- 대소문자는 구분합니다.\n",
    "- 언더바로만 사용하거나 언더바로 시작할 수 있습니다."
   ]
  },
  {
   "cell_type": "code",
   "execution_count": 2,
   "metadata": {},
   "outputs": [
    {
     "name": "stdout",
     "output_type": "stream",
     "text": [
      "0\n",
      "1\n",
      "2\n",
      "3\n",
      "4\n",
      "5\n",
      "6\n",
      "7\n",
      "8\n",
      "9\n"
     ]
    }
   ],
   "source": [
    "for _ in range(10):\n",
    "    print(_)"
   ]
  },
  {
   "cell_type": "code",
   "execution_count": 3,
   "metadata": {},
   "outputs": [
    {
     "data": {
      "text/plain": [
       "(10,\n",
       " int,\n",
       " ['__abs__',\n",
       "  '__add__',\n",
       "  '__and__',\n",
       "  '__bool__',\n",
       "  '__ceil__',\n",
       "  '__class__',\n",
       "  '__delattr__',\n",
       "  '__dir__',\n",
       "  '__divmod__',\n",
       "  '__doc__',\n",
       "  '__eq__',\n",
       "  '__float__',\n",
       "  '__floor__',\n",
       "  '__floordiv__',\n",
       "  '__format__',\n",
       "  '__ge__',\n",
       "  '__getattribute__',\n",
       "  '__getnewargs__',\n",
       "  '__gt__',\n",
       "  '__hash__',\n",
       "  '__index__',\n",
       "  '__init__',\n",
       "  '__init_subclass__',\n",
       "  '__int__',\n",
       "  '__invert__',\n",
       "  '__le__',\n",
       "  '__lshift__',\n",
       "  '__lt__',\n",
       "  '__mod__',\n",
       "  '__mul__',\n",
       "  '__ne__',\n",
       "  '__neg__',\n",
       "  '__new__',\n",
       "  '__or__',\n",
       "  '__pos__',\n",
       "  '__pow__',\n",
       "  '__radd__',\n",
       "  '__rand__',\n",
       "  '__rdivmod__',\n",
       "  '__reduce__',\n",
       "  '__reduce_ex__',\n",
       "  '__repr__',\n",
       "  '__rfloordiv__',\n",
       "  '__rlshift__',\n",
       "  '__rmod__',\n",
       "  '__rmul__',\n",
       "  '__ror__',\n",
       "  '__round__',\n",
       "  '__rpow__',\n",
       "  '__rrshift__',\n",
       "  '__rshift__',\n",
       "  '__rsub__',\n",
       "  '__rtruediv__',\n",
       "  '__rxor__',\n",
       "  '__setattr__',\n",
       "  '__sizeof__',\n",
       "  '__str__',\n",
       "  '__sub__',\n",
       "  '__subclasshook__',\n",
       "  '__truediv__',\n",
       "  '__trunc__',\n",
       "  '__xor__',\n",
       "  'bit_length',\n",
       "  'conjugate',\n",
       "  'denominator',\n",
       "  'from_bytes',\n",
       "  'imag',\n",
       "  'numerator',\n",
       "  'real',\n",
       "  'to_bytes'])"
      ]
     },
     "execution_count": 3,
     "metadata": {},
     "output_type": "execute_result"
    }
   ],
   "source": [
    "a = 10      # int, 정수형\n",
    "b = 10.1    # float, 실수\n",
    "c = -1\n",
    "d = True    # bool, 부울형(참거짓형)\n",
    "e = '10'    # str, 문자형\n",
    "f = 'lee'\n",
    "g = 'hojun'\n",
    "h = 10 +2j  # complex, 복소수\n",
    "i = 0b110   # int, 2진법\n",
    "j = 0o11    # int, 8진법\n",
    "k = 0xA1    # int, 16진법\n",
    "\n",
    "####\n",
    "\n",
    "l = [10, 20, 30]  # list\n",
    "m = (10, 20, 30)  # tuple\n",
    "n = {10, 20, 30}  # set\n",
    "o = {'key': 'value'}  # dict\n",
    "\n",
    "a, type(a), dir(a)  # 값, 자료형, 변수가 가진 모든 메서드(던더 함수)"
   ]
  },
  {
   "cell_type": "markdown",
   "metadata": {},
   "source": [
    "## [3]"
   ]
  },
  {
   "cell_type": "markdown",
   "metadata": {},
   "source": [
    "### 입력과 출력"
   ]
  },
  {
   "cell_type": "code",
   "execution_count": 4,
   "metadata": {},
   "outputs": [
    {
     "data": {
      "text/plain": [
       "'1010'"
      ]
     },
     "execution_count": 4,
     "metadata": {},
     "output_type": "execute_result"
    }
   ],
   "source": [
    "x = input()  # str\n",
    "x + x  # str"
   ]
  },
  {
   "cell_type": "code",
   "execution_count": 5,
   "metadata": {},
   "outputs": [
    {
     "data": {
      "text/plain": [
       "20"
      ]
     },
     "execution_count": 5,
     "metadata": {},
     "output_type": "execute_result"
    }
   ],
   "source": [
    "x = int(input())  # int\n",
    "x + x  # int"
   ]
  },
  {
   "cell_type": "code",
   "execution_count": 6,
   "metadata": {},
   "outputs": [
    {
     "data": {
      "text/plain": [
       "20"
      ]
     },
     "execution_count": 6,
     "metadata": {},
     "output_type": "execute_result"
    }
   ],
   "source": [
    "x = input()  # str\n",
    "int(x) + int(x)  # int"
   ]
  },
  {
   "cell_type": "code",
   "execution_count": 7,
   "metadata": {},
   "outputs": [
    {
     "data": {
      "text/plain": [
       "20"
      ]
     },
     "execution_count": 7,
     "metadata": {},
     "output_type": "execute_result"
    }
   ],
   "source": [
    "x = input('입력하세요 : ')  # str\n",
    "int(x) + int(x)  # int"
   ]
  },
  {
   "cell_type": "markdown",
   "metadata": {},
   "source": [
    "### 자주 쓰이는 built-in functions 정리\n",
    "- int()\n",
    "- float()\n",
    "- bool()\n",
    "- str()\n",
    "- tuple()\n",
    "- list()\n",
    "- dict()\n",
    "- set()"
   ]
  },
  {
   "cell_type": "code",
   "execution_count": 8,
   "metadata": {},
   "outputs": [
    {
     "name": "stdout",
     "output_type": "stream",
     "text": [
      "10 10.1 -1\n",
      "10!!10.1!!-1\n",
      "11:59:59\n",
      "10 10.1 -1!!10 10.1 -1!!"
     ]
    }
   ],
   "source": [
    "print(a, b, c)\n",
    "print(a, b, c, sep='!!')  # 옵션 sep: 구분자 설정\n",
    "print(11, 59, 59, sep=':')\n",
    "\n",
    "print(a, b, c, end='!!')  # 옵션 end: 개행되지 않음\n",
    "print(a, b, c, end='!!')"
   ]
  },
  {
   "cell_type": "code",
   "execution_count": 9,
   "metadata": {},
   "outputs": [
    {
     "name": "stdout",
     "output_type": "stream",
     "text": [
      "hello world\n",
      "10 X 10.1 = 101.0\n",
      "10 X 10.1 = 101.0\n"
     ]
    }
   ],
   "source": [
    "print('hello world')\n",
    "print(f'{a} X {b} = {a*b}')  # python 3.6 부터 가능\n",
    "print('{0} X {1} = {2}'.format(a, b, a*b))"
   ]
  },
  {
   "cell_type": "code",
   "execution_count": 10,
   "metadata": {},
   "outputs": [
    {
     "name": "stdout",
     "output_type": "stream",
     "text": [
      "안녕하세요. 제 이름은 이호준 입니다. 제 나이는 10 살입니다.\n",
      "안녕하세요. 제 이름은 이호준 입니다. 제 나이는 10 살입니다.\n"
     ]
    }
   ],
   "source": [
    "name = '이호준'\n",
    "age = 10\n",
    "print('안녕하세요. 제 이름은', name, '입니다. 제 나이는', age, '살입니다.')\n",
    "print('안녕하세요. 제 이름은 %s 입니다. 제 나이는 %d 살입니다.' % (name, age))  # 포맷 코드"
   ]
  },
  {
   "cell_type": "markdown",
   "metadata": {},
   "source": [
    "### 포맷 코드 종류\n",
    "- %c 문자\n",
    "- %s 문자열\n",
    "- %d 정수\n",
    "- %f 실수\n",
    "- %o 8진수\n",
    "- %x 16진수"
   ]
  },
  {
   "cell_type": "markdown",
   "metadata": {},
   "source": []
  },
  {
   "cell_type": "markdown",
   "metadata": {},
   "source": []
  },
  {
   "cell_type": "markdown",
   "metadata": {},
   "source": []
  },
  {
   "cell_type": "markdown",
   "metadata": {},
   "source": [
    "## [21]"
   ]
  },
  {
   "cell_type": "markdown",
   "metadata": {},
   "source": [
    "### 클래스\n",
    "- 클래스: 공장, 붕어빵 찍는 틀\n",
    "    - 여러 개의 인스턴스를 생성하기 위해 사용함\n",
    "    - [매직 메서드 상세 공식 문서](https://docs.python.org/3/reference/datamodel.html)\n",
    "- 인스턴스: 공장에서 생산되는 생산품, 붕어빵"
   ]
  },
  {
   "cell_type": "code",
   "execution_count": 11,
   "metadata": {},
   "outputs": [
    {
     "name": "stdout",
     "output_type": "stream",
     "text": [
      "100 의 스피드로 달리고 있습니다.\n",
      "200 의 스피드로 달리고 있습니다.\n",
      "<__main__.Car object at 0x0000024C3C5A7CC8>\n",
      "<class '__main__.Car'>\n",
      "['__class__', '__delattr__', '__dict__', '__dir__', '__doc__', '__eq__', '__format__', '__ge__', '__getattribute__', '__gt__', '__hash__', '__init__', '__init_subclass__', '__le__', '__lt__', '__module__', '__ne__', '__new__', '__reduce__', '__reduce_ex__', '__repr__', '__setattr__', '__sizeof__', '__str__', '__subclasshook__', '__weakref__', 'maxpeople', 'maxspeed', 'move', 'stop']\n"
     ]
    }
   ],
   "source": [
    "class Car(object):\n",
    "    maxspeed = 300\n",
    "    maxpeople = 5\n",
    "    \n",
    "    def move(self, x):\n",
    "        print(x, '의 스피드로 달리고 있습니다.')\n",
    "        \n",
    "    def stop(self):\n",
    "        print('멈췄습니다.')\n",
    "        \n",
    "\n",
    "k5 = Car()\n",
    "k3 = Car()\n",
    "\n",
    "k5.move(100)\n",
    "k3.move(200)\n",
    "\n",
    "print(k5)\n",
    "print(type(k5))  # 클래스 Car 의 인스턴스\n",
    "print(dir(k5))  # 던더 함수를 가지고 있는 게 object"
   ]
  },
  {
   "cell_type": "code",
   "execution_count": 12,
   "metadata": {},
   "outputs": [],
   "source": [
    "# Django, Python Framework 에서 게시물을 생성할 때 사용\n",
    "class Notice:\n",
    "    pass\n",
    "\n",
    "# 크롤링할 때 각각 크롤링된 데이터를 인스턴스로 생성 -> 엑셀로 변환\n",
    "class Book:\n",
    "    pass"
   ]
  },
  {
   "cell_type": "code",
   "execution_count": 13,
   "metadata": {},
   "outputs": [
    {
     "name": "stdout",
     "output_type": "stream",
     "text": [
      "K5 100 의 스피드로 달리고 있습니다.\n",
      "['K5', 'K3']\n",
      "멈췄습니다.\n",
      "K3 200 의 스피드로 달리고 있습니다.\n",
      "['K5', 'K3']\n",
      "멈췄습니다.\n"
     ]
    }
   ],
   "source": [
    "class Car(object):\n",
    "    kinds = []\n",
    "    maxspeed = 300\n",
    "    maxpeople = 5\n",
    "    \n",
    "    def __init__(self, name):  # 매직 메서드 # self: 인스턴스만의 영역\n",
    "        self.name = name\n",
    "        self.kinds.append(name)\n",
    "        \n",
    "    def move(self, x):\n",
    "        print(self.name, x, '의 스피드로 달리고 있습니다.')\n",
    "        print(self.kinds)\n",
    "        self.stop()\n",
    "        \n",
    "    def stop(self):\n",
    "        print('멈췄습니다.')\n",
    "        \n",
    "\n",
    "k5 = Car('K5')\n",
    "k3 = Car('K3')\n",
    "\n",
    "k5.move(100)\n",
    "k3.move(200)"
   ]
  },
  {
   "cell_type": "code",
   "execution_count": 14,
   "metadata": {},
   "outputs": [
    {
     "name": "stdout",
     "output_type": "stream",
     "text": [
      "('hello world', 'K5', 'K3')\n",
      "K5\n",
      "현재 200의 스피드로 달리고 있습니다.\n"
     ]
    }
   ],
   "source": [
    "class Car(object):\n",
    "    kinds = []\n",
    "    maxspeed = 300\n",
    "    maxpeople = 5\n",
    "    \n",
    "    def __init__(self, name):  # 처음 인스턴스 생성하면 무조건 실행되는 매직 메서드\n",
    "        self.name = name\n",
    "        self.kinds.append(name)\n",
    "        \n",
    "    def __add__(self, obj):  # 개발자만의 덧셈을 정의할 수 있음\n",
    "        return 'hello world', self.name, obj.name\n",
    "    \n",
    "    def __str__(self):  # print 할 때 출력되는 설명문 작성할 수 있음, django 에서 유용함\n",
    "        return self.name\n",
    "        \n",
    "    def move(self, x):\n",
    "        print(self.name, x, '의 스피드로 달리고 있습니다.')\n",
    "        print(self.kinds)\n",
    "        self.stop()\n",
    "        \n",
    "    def stop(self):\n",
    "        print('멈췄습니다.')\n",
    "        \n",
    "    @staticmethod  # 정적 메서드 # 데코레이터\n",
    "    def faster_speed(current_speed, value):\n",
    "        print(f'현재 {current_speed * value}의 스피드로 달리고 있습니다.')\n",
    "\n",
    "\n",
    "k5 = Car('K5')\n",
    "k3 = Car('K3')\n",
    "\n",
    "print(k5 + k3)  # __add__ 함수 호출 # self 는 k5, obj 는 k3\n",
    "print(k5)  # __str__ 함수 호출\n",
    "\n",
    "Car.faster_speed(100, 2)  # 정적 메서드 (self 인자 없음) => 클래스에서 함수 직접 호출"
   ]
  },
  {
   "cell_type": "markdown",
   "metadata": {},
   "source": [
    "## [22]"
   ]
  },
  {
   "cell_type": "markdown",
   "metadata": {},
   "source": [
    "### 클래스의 상속\n",
    "- 책 추천: [전문가를 위한 파이썬][book_link]\n",
    "    - 파이썬 상속에 대해 순서가 자세히 나옴\n",
    "    - 메서드 오버라이딩이 메모리 값에서 어떻게 작동하는지 나옴\n",
    "\n",
    "[book_link]: https://books.google.co.kr/books/about/%EC%A0%84%EB%AC%B8%EA%B0%80%EB%A5%BC_%EC%9C%84%ED%95%9C_%ED%8C%8C%EC%9D%B4%EC%8D%AC.html?id=NJpIDwAAQBAJ&printsec=frontcover&source=kp_read_button&hl=ko&redir_esc=y#v=onepage&q&f=false"
   ]
  },
  {
   "cell_type": "code",
   "execution_count": 15,
   "metadata": {},
   "outputs": [
    {
     "name": "stdout",
     "output_type": "stream",
     "text": [
      "300\n",
      "['__class__', '__delattr__', '__dict__', '__dir__', '__doc__', '__eq__', '__format__', '__ge__', '__getattribute__', '__gt__', '__hash__', '__init__', '__init_subclass__', '__le__', '__lt__', '__module__', '__ne__', '__new__', '__reduce__', '__reduce_ex__', '__repr__', '__setattr__', '__sizeof__', '__str__', '__subclasshook__', '__weakref__', 'battery', 'batteryKM', 'maxpeople', 'maxspeed', 'move', 'stop']\n"
     ]
    }
   ],
   "source": [
    "# 부모 클래스 == 기반 클래스 == 슈퍼 클래스\n",
    "class Car(object):\n",
    "    maxspeed = 300\n",
    "    maxpeople = 5\n",
    "        \n",
    "    def move(self, x):\n",
    "        print('스피드로 달리고 있습니다.')\n",
    "        \n",
    "    def stop(self):\n",
    "        print('멈췄습니다.')\n",
    "        \n",
    "\n",
    "# 자식 클래스 == 서브 클래스 == 파생 클래스\n",
    "class HybridCar(Car):  # Car 상속 => Car 값 사용 가능\n",
    "    battery = 1000\n",
    "    batteryKM = 300\n",
    "\n",
    "\n",
    "k5 = HybridCar()\n",
    "\n",
    "print(k5.maxspeed)\n",
    "\n",
    "print(dir(k5))"
   ]
  },
  {
   "cell_type": "code",
   "execution_count": 16,
   "metadata": {},
   "outputs": [
    {
     "name": "stdout",
     "output_type": "stream",
     "text": [
      "300\n",
      "300\n",
      "2000\n",
      "600 만큼 달릴 수 있습니다.\n",
      "스피드로 달리고 있습니다.\n"
     ]
    }
   ],
   "source": [
    "# 부모 클래스 == 기반 클래스 == 슈퍼 클래스\n",
    "class Car(object):\n",
    "    maxspeed = 300\n",
    "    maxpeople = 5\n",
    "        \n",
    "    def move(self, x):\n",
    "        print('스피드로 달리고 있습니다.')\n",
    "        \n",
    "    def stop(self):\n",
    "        print('멈췄습니다.')\n",
    "        \n",
    "\n",
    "# 자식 클래스 == 서브 클래스 == 파생 클래스\n",
    "class HybridCar(Car):  # Car 상속 => Car 값 사용 가능\n",
    "    battery = 1000\n",
    "    batteryKM = 300\n",
    "    \n",
    "\n",
    "class ElectricCar(HybridCar):  # HybridCar 상속 => Car 값 사용 가능\n",
    "    battery = 2000\n",
    "    batteryKM = 600\n",
    "    \n",
    "    def move(self, x):  # 메서드 오버라이딩 => 같은 이름의 함수 덮어 쓰기\n",
    "        print(self.batteryKM, '만큼 달릴 수 있습니다.')\n",
    "        print('스피드로 달리고 있습니다.')\n",
    "\n",
    "\n",
    "k5 = HybridCar()\n",
    "electricCarK5 = ElectricCar()\n",
    "\n",
    "print(k5.maxspeed)\n",
    "print(electricCarK5.maxspeed)\n",
    "print(electricCarK5.battery)\n",
    "electricCarK5.move(10)\n",
    "\n",
    "# print(dir(electricCarK5))"
   ]
  },
  {
   "cell_type": "code",
   "execution_count": 17,
   "metadata": {},
   "outputs": [],
   "source": [
    "# 부모 클래스 == 기반 클래스 == 슈퍼 클래스\n",
    "class Car(object):\n",
    "    maxspeed = 300\n",
    "    maxpeople = 5\n",
    "        \n",
    "    def move(self, x):\n",
    "        print('스피드로 달리고 있습니다.')\n",
    "        \n",
    "    def stop(self):\n",
    "        print('멈췄습니다.')\n",
    "        \n",
    "\n",
    "# 자식 클래스 == 서브 클래스 == 파생 클래스\n",
    "class HybridCar(Car):  # Car 상속 => Car 값 사용 가능\n",
    "    battery = 1000\n",
    "    batteryKM = 300\n",
    "    \n",
    "\n",
    "class ElectricCar(HybridCar):  # HybridCar 상속 => Car 값 사용 가능\n",
    "    battery = 2000\n",
    "    batteryKM = 600\n",
    "    \n",
    "    def move(self, x):  # 메서드 오버라이딩 => 같은 이름의 함수 덮어 쓰기\n",
    "        print(self.batteryKM, '만큼 달릴 수 있습니다.')\n",
    "        print('스피드로 달리고 있습니다.')\n",
    "        \n",
    "\n",
    "# MRO 에러 발생 => 어떤 클래스를 어떤 순서로 상속받을 것인가, python 2.x 와 python 3.x 의 순서가 다름\n",
    "# class HybridElectricCar(HybridCar, ElectricCar):  # 다중 상속\n",
    "#     pass"
   ]
  },
  {
   "cell_type": "code",
   "execution_count": 18,
   "metadata": {},
   "outputs": [
    {
     "name": "stdout",
     "output_type": "stream",
     "text": [
      "300\n",
      "1000\n"
     ]
    },
    {
     "data": {
      "text/plain": [
       "[__main__.HybridElectricCar,\n",
       " __main__.HybridCar,\n",
       " __main__.ElectricCar,\n",
       " __main__.Car,\n",
       " object]"
      ]
     },
     "execution_count": 18,
     "metadata": {},
     "output_type": "execute_result"
    }
   ],
   "source": [
    "# 부모 클래스 == 기반 클래스 == 슈퍼 클래스\n",
    "class Car(object):\n",
    "    maxspeed = 300\n",
    "    maxpeople = 5\n",
    "        \n",
    "    def move(self, x):\n",
    "        print('스피드로 달리고 있습니다.')\n",
    "        \n",
    "    def stop(self):\n",
    "        print('멈췄습니다.')\n",
    "        \n",
    "\n",
    "# 자식 클래스 == 서브 클래스 == 파생 클래스\n",
    "class HybridCar(Car):  # Car 상속 => Car 값 사용 가능\n",
    "    battery = 1000\n",
    "    batteryKM = 300\n",
    "    \n",
    "\n",
    "class ElectricCar(Car):  # Car 상속 => Car 값 사용 가능\n",
    "    battery = 2000\n",
    "    batteryKM = 600\n",
    "    \n",
    "    def move(self, x):  # 메서드 오버라이딩 => 같은 이름의 함수 덮어 쓰기\n",
    "        print(self.batteryKM, '만큼 달릴 수 있습니다.')\n",
    "        print('스피드로 달리고 있습니다.')\n",
    "        \n",
    "\n",
    "# MRO 에러 발생 => 어떤 클래스를 어떤 순서로 상속받을 것인가\n",
    "class HybridElectricCar(HybridCar, ElectricCar):  # 다중 상속\n",
    "    pass\n",
    "\n",
    "\n",
    "k5 = HybridElectricCar()\n",
    "print(k5.maxspeed)\n",
    "print(k5.battery)\n",
    "\n",
    "HybridElectricCar.mro()  # 상속받는 순서대로 출력됨 => 순서: 나 자신, HybridCar, ElectricCar, Car, object"
   ]
  },
  {
   "cell_type": "markdown",
   "metadata": {},
   "source": [
    "## [23]"
   ]
  },
  {
   "cell_type": "markdown",
   "metadata": {},
   "source": [
    "### 모듈과 패키지\n",
    "- 모듈: 변수, 함수, 클래스의 집합\n",
    "- 패키지: 모듈의 집합"
   ]
  },
  {
   "cell_type": "code",
   "execution_count": 19,
   "metadata": {},
   "outputs": [],
   "source": [
    "# !pip list  # 현재 설치되어 있는 패키지 리스트"
   ]
  },
  {
   "cell_type": "code",
   "execution_count": 20,
   "metadata": {},
   "outputs": [],
   "source": [
    "# !pip install <package_name>  # 패키지 설치"
   ]
  },
  {
   "cell_type": "code",
   "execution_count": 21,
   "metadata": {},
   "outputs": [],
   "source": [
    "# pip install requests  # 웹에 있는 데이터를 가져오는 패키지"
   ]
  },
  {
   "cell_type": "code",
   "execution_count": 22,
   "metadata": {},
   "outputs": [
    {
     "name": "stdout",
     "output_type": "stream",
     "text": [
      "leehojun\n",
      "10\n",
      "hello world\n"
     ]
    }
   ],
   "source": [
    "from leehojun import name, age, introduce  # 패키지 => 모듈(변수, 함수) 가져옴\n",
    "\n",
    "print(name)\n",
    "print(age)\n",
    "\n",
    "introduce()"
   ]
  },
  {
   "cell_type": "code",
   "execution_count": 23,
   "metadata": {},
   "outputs": [
    {
     "name": "stdout",
     "output_type": "stream",
     "text": [
      "leehojun\n",
      "10\n",
      "hello world\n"
     ]
    }
   ],
   "source": [
    "import leehojun  # 보통 패키지 속 변수/함수 이름이 겹치는 경우를 방지하기 위해 주로 import 로 가져옴\n",
    "\n",
    "print(leehojun.name)\n",
    "print(leehojun.age)\n",
    "\n",
    "leehojun.introduce()"
   ]
  },
  {
   "cell_type": "code",
   "execution_count": 24,
   "metadata": {},
   "outputs": [
    {
     "name": "stdout",
     "output_type": "stream",
     "text": [
      "leehojun\n",
      "10\n",
      "hello world\n"
     ]
    }
   ],
   "source": [
    "import leehojun as jun  # 별칭 설정\n",
    "\n",
    "print(jun.name)\n",
    "print(jun.age)\n",
    "\n",
    "jun.introduce()"
   ]
  },
  {
   "cell_type": "code",
   "execution_count": 25,
   "metadata": {},
   "outputs": [
    {
     "name": "stdout",
     "output_type": "stream",
     "text": [
      "leehojun\n",
      "10\n",
      "hello world\n"
     ]
    }
   ],
   "source": [
    "from leehojun import *  # 애스터리스크(*) => 모두 가져옴, 뭘 가져왔는지 알 수 없어서 실무에서 많이 쓰지 않음\n",
    "\n",
    "print(name)\n",
    "print(age)\n",
    "\n",
    "introduce()"
   ]
  },
  {
   "cell_type": "code",
   "execution_count": 26,
   "metadata": {},
   "outputs": [
    {
     "data": {
      "text/plain": [
       "10"
      ]
     },
     "execution_count": 26,
     "metadata": {},
     "output_type": "execute_result"
    }
   ],
   "source": [
    "import random\n",
    "\n",
    "random.randint(0, 10)  # 0~10 랜덤 숫자 반환\n",
    "random.choice([10, 20, 30, 40, 50])"
   ]
  },
  {
   "cell_type": "markdown",
   "metadata": {},
   "source": [
    "## [24]"
   ]
  },
  {
   "cell_type": "markdown",
   "metadata": {},
   "source": [
    "### built-in function\n",
    "- 파이썬에 내장되어 있는 함수\n",
    "- [파이썬 공식 문서 built-in function](https://docs.python.org/3/library/functions.html)"
   ]
  },
  {
   "cell_type": "markdown",
   "metadata": {},
   "source": [
    "### 각종 수학적 통계에 활용되는 함수\n",
    "- abs() - 절대값\n",
    "- all() - 안에 있는 값이 모두 T 이면 T 반환\n",
    "- any() - 안에 있는 값이 하나라도 T 이면 T 반환\n",
    "- pow() - 제곱\n",
    "- max() - 최댓값\n",
    "- min() - 최솟값\n",
    "- sum() - 합\n",
    "- len() - 길이\n",
    "- sorted() - 정렬\n",
    "- reversed() - 역순"
   ]
  },
  {
   "cell_type": "code",
   "execution_count": 27,
   "metadata": {},
   "outputs": [
    {
     "name": "stdout",
     "output_type": "stream",
     "text": [
      "False\n",
      "True\n"
     ]
    }
   ],
   "source": [
    "print(all([True, False]))\n",
    "print(all([True, True, True]))"
   ]
  },
  {
   "cell_type": "code",
   "execution_count": 28,
   "metadata": {},
   "outputs": [
    {
     "name": "stdout",
     "output_type": "stream",
     "text": [
      "True\n",
      "False\n"
     ]
    }
   ],
   "source": [
    "print(any([True, True, True, False]))\n",
    "print(any([False, False]))"
   ]
  },
  {
   "cell_type": "code",
   "execution_count": 29,
   "metadata": {},
   "outputs": [
    {
     "data": {
      "text/plain": [
       "16"
      ]
     },
     "execution_count": 29,
     "metadata": {},
     "output_type": "execute_result"
    }
   ],
   "source": [
    "pow(2,4)"
   ]
  },
  {
   "cell_type": "code",
   "execution_count": 30,
   "metadata": {},
   "outputs": [
    {
     "name": "stdout",
     "output_type": "stream",
     "text": [
      "4\n",
      "1\n",
      "20\n",
      "8\n",
      "[1, 1, 2, 2, 3, 3, 4, 4]\n",
      "[4, 3, 2, 1, 4, 3, 2, 1]\n"
     ]
    }
   ],
   "source": [
    "x = [1,2,3,4,1,2,3,4]\n",
    "\n",
    "print(max(x))\n",
    "print(min(x))\n",
    "print(sum(x))\n",
    "print(len(x))\n",
    "print(sorted(x))\n",
    "print(list(reversed(x)))"
   ]
  },
  {
   "cell_type": "markdown",
   "metadata": {},
   "source": [
    "### 형변환 함수\n",
    "- range() - 연속된 숫자 생성 리스트\n",
    "- list() - 리스트\n",
    "- tuple() - 튜플\n",
    "- set() - 세트\n",
    "- dict() - 딕셔너리\n",
    "- complex() - 복소수\n",
    "- bin() - 2진법\n",
    "- oct() - 8진법\n",
    "- hex() - 16진법\n",
    "- int() - 정수형\n",
    "- float() - 실수형\n",
    "- bool() - 참/거짓\n",
    "- str() - 문자형\n",
    "- ord() - 아스키 코드 변환: 문자 -> 숫자\n",
    "- chr() - 아스키 코드 변환: 숫자 -> 문자"
   ]
  },
  {
   "cell_type": "code",
   "execution_count": 31,
   "metadata": {},
   "outputs": [
    {
     "data": {
      "text/plain": [
       "range"
      ]
     },
     "execution_count": 31,
     "metadata": {},
     "output_type": "execute_result"
    }
   ],
   "source": [
    "type(range(1))"
   ]
  },
  {
   "cell_type": "code",
   "execution_count": 32,
   "metadata": {},
   "outputs": [
    {
     "name": "stdout",
     "output_type": "stream",
     "text": [
      "0x64\n",
      "0b1100100\n",
      "0o144\n",
      "65\n",
      "A\n"
     ]
    }
   ],
   "source": [
    "print(hex(100))\n",
    "print(bin(100))\n",
    "print(oct(100))\n",
    "print(ord('A'))\n",
    "print(chr(65))"
   ]
  },
  {
   "cell_type": "markdown",
   "metadata": {},
   "source": [
    "### 도움말\n",
    "- help()"
   ]
  },
  {
   "cell_type": "code",
   "execution_count": 33,
   "metadata": {},
   "outputs": [
    {
     "name": "stdout",
     "output_type": "stream",
     "text": [
      "Help on function hojun in module __main__:\n",
      "\n",
      "hojun()\n",
      "    이호준이 작성한 함수\n",
      "\n"
     ]
    }
   ],
   "source": [
    "def hojun():\n",
    "    '''\n",
    "    이호준이 작성한 함수\n",
    "    '''\n",
    "    pass\n",
    "\n",
    "\n",
    "help(hojun)"
   ]
  },
  {
   "cell_type": "markdown",
   "metadata": {},
   "source": [
    "### object 관련 함수\n",
    "- dir()\n",
    "- id()\n",
    "- type()"
   ]
  },
  {
   "cell_type": "markdown",
   "metadata": {},
   "source": [
    "### 유용한 순회 가능 객체\n",
    "- enumerate() - 순서 매김\n",
    "- zip() - 각 인덱스 요소끼리 묶어줌, lambda 와 같이 쓰임\n",
    "- map() - 함수를 묶어줌, 순회 가능한 객체에 있는 요소를 하나씩 함수에 적용시킴, lambda 와 같이 쓰임\n",
    "- filter() - 필터링, lambda 와 같이 쓰임"
   ]
  },
  {
   "cell_type": "code",
   "execution_count": 34,
   "metadata": {},
   "outputs": [
    {
     "name": "stdout",
     "output_type": "stream",
     "text": [
      "3 10\n",
      "4 20\n",
      "5 30\n",
      "6 40\n",
      "7 50\n"
     ]
    }
   ],
   "source": [
    "x = [10, 20, 30, 40, 50]\n",
    "\n",
    "for i, j in enumerate(x, 3):  # 3 부터 시작\n",
    "    print(i, j)"
   ]
  },
  {
   "cell_type": "code",
   "execution_count": 35,
   "metadata": {},
   "outputs": [
    {
     "data": {
      "text/plain": [
       "[('a', '1', '!'), ('b', '2', '@'), ('c', '3', '#')]"
      ]
     },
     "execution_count": 35,
     "metadata": {},
     "output_type": "execute_result"
    }
   ],
   "source": [
    "list(zip('abc', '123', '!@#'))"
   ]
  },
  {
   "cell_type": "code",
   "execution_count": 36,
   "metadata": {},
   "outputs": [
    {
     "name": "stdout",
     "output_type": "stream",
     "text": [
      "['11', '22', '33']\n",
      "[2, 4, 6]\n"
     ]
    }
   ],
   "source": [
    "def double(x):\n",
    "    return x*2\n",
    "\n",
    "\n",
    "# 순회 가능한 객체에 있는 요소를 하나씩 함수에 적용시킴\n",
    "print(list(map(double, '123')))\n",
    "print(list(map(double, [1,2,3])))"
   ]
  },
  {
   "cell_type": "code",
   "execution_count": 37,
   "metadata": {},
   "outputs": [
    {
     "data": {
      "text/plain": [
       "[6, 7, 8, 9]"
      ]
     },
     "execution_count": 37,
     "metadata": {},
     "output_type": "execute_result"
    }
   ],
   "source": [
    "def func(x):\n",
    "    return x > 5\n",
    "\n",
    "list(filter(func, range(10)))"
   ]
  },
  {
   "cell_type": "markdown",
   "metadata": {},
   "source": [
    "### 입출력 관련 함수\n",
    "- input()\n",
    "- print()\n",
    "- open() - 파일 입출력할 때 사용"
   ]
  },
  {
   "cell_type": "markdown",
   "metadata": {},
   "source": [
    "## [25]"
   ]
  },
  {
   "cell_type": "markdown",
   "metadata": {},
   "source": [
    "### args, kwargs\n",
    "- args (argument)\n",
    "- kwargs (keyword argument)\n",
    "    - (키워드 = 값) 형태로 함수 내부에 전달됨"
   ]
  },
  {
   "cell_type": "code",
   "execution_count": 38,
   "metadata": {},
   "outputs": [
    {
     "name": "stdout",
     "output_type": "stream",
     "text": [
      "(10, True, 'leehojun')\n",
      "<class 'tuple'>\n",
      "10\n",
      "True\n",
      "leehojun\n"
     ]
    }
   ],
   "source": [
    "def print_args(*args):  # *args: 가변 인수를 받음\n",
    "    print(args)\n",
    "    print(type(args))\n",
    "    for i in args:\n",
    "        print(i)\n",
    "\n",
    "\n",
    "print_args(10, True, 'leehojun')"
   ]
  },
  {
   "cell_type": "code",
   "execution_count": 39,
   "metadata": {},
   "outputs": [
    {
     "name": "stdout",
     "output_type": "stream",
     "text": [
      "10\n",
      "(True, 'leehojun')\n",
      "<class 'tuple'>\n",
      "True\n",
      "leehojun\n"
     ]
    }
   ],
   "source": [
    "def print_args(a, *args):  # 고정 인수 a, 가변 인수 *args\n",
    "    print(a)\n",
    "    print(args)\n",
    "    print(type(args))\n",
    "    for i in args:\n",
    "        print(i)\n",
    "\n",
    "\n",
    "print_args(10, True, 'leehojun')"
   ]
  },
  {
   "cell_type": "code",
   "execution_count": 40,
   "metadata": {},
   "outputs": [
    {
     "name": "stdout",
     "output_type": "stream",
     "text": [
      "{'name': 'leehojun', 'age': 10}\n",
      "<class 'dict'>\n",
      "name\n",
      "age\n"
     ]
    }
   ],
   "source": [
    "def print_kwargs(**kwargs):  # 가변 인수 **kwargs # (키워드 = 값) 형태로 함수 내부에 전달됨\n",
    "    print(kwargs)\n",
    "    print(type(kwargs))\n",
    "    for i in kwargs:\n",
    "        print(i)\n",
    "\n",
    "\n",
    "print_kwargs(name='leehojun', age=10)"
   ]
  },
  {
   "cell_type": "code",
   "execution_count": 41,
   "metadata": {},
   "outputs": [
    {
     "name": "stdout",
     "output_type": "stream",
     "text": [
      "10\n",
      "{'name': 'leehojun', 'age': 10}\n",
      "<class 'dict'>\n",
      "name\n",
      "age\n"
     ]
    }
   ],
   "source": [
    "def print_kwargs(a, **kwargs):  # 고정 인수 a, 가변 인수 **kwargs\n",
    "    print(a)\n",
    "    print(kwargs)\n",
    "    print(type(kwargs))\n",
    "    for i in kwargs:\n",
    "        print(i)\n",
    "\n",
    "\n",
    "print_kwargs(10, name='leehojun', age=10)"
   ]
  },
  {
   "cell_type": "markdown",
   "metadata": {},
   "source": [
    "## [26]"
   ]
  },
  {
   "cell_type": "markdown",
   "metadata": {},
   "source": [
    "### lambda 와 응용식"
   ]
  },
  {
   "cell_type": "code",
   "execution_count": 42,
   "metadata": {},
   "outputs": [
    {
     "name": "stdout",
     "output_type": "stream",
     "text": [
      "hello world\n"
     ]
    }
   ],
   "source": [
    "# 기명 함수\n",
    "hojun = print  # print 함수를 가리키는 변수 저장\n",
    "hojun('hello world')  # 함수 호출"
   ]
  },
  {
   "cell_type": "code",
   "execution_count": 43,
   "metadata": {},
   "outputs": [
    {
     "name": "stdout",
     "output_type": "stream",
     "text": [
      "30\n"
     ]
    }
   ],
   "source": [
    "def add(x, y):\n",
    "    return x + y\n",
    "\n",
    "def sub():\n",
    "    pass\n",
    "\n",
    "def div():\n",
    "    pass\n",
    "\n",
    "def mul():\n",
    "    pass\n",
    "\n",
    "calculator = [add, sub, div, mul]\n",
    "print(calculator[0](10, 20))  # add(10,20) 호출"
   ]
  },
  {
   "cell_type": "code",
   "execution_count": 44,
   "metadata": {},
   "outputs": [
    {
     "data": {
      "text/plain": [
       "9"
      ]
     },
     "execution_count": 44,
     "metadata": {},
     "output_type": "execute_result"
    }
   ],
   "source": [
    "# 익명 함수 => 이름이 없는 함수, 한 줄로 쓸 수 있음\n",
    "\n",
    "square = lambda x: x**2\n",
    "\n",
    "square(3)"
   ]
  },
  {
   "cell_type": "code",
   "execution_count": 45,
   "metadata": {},
   "outputs": [
    {
     "data": {
      "text/plain": [
       "[1, 4, 9, 16]"
      ]
     },
     "execution_count": 45,
     "metadata": {},
     "output_type": "execute_result"
    }
   ],
   "source": [
    "list(map(square, [1,2,3,4]))"
   ]
  },
  {
   "cell_type": "code",
   "execution_count": 46,
   "metadata": {},
   "outputs": [
    {
     "data": {
      "text/plain": [
       "[1, 4, 9, 16]"
      ]
     },
     "execution_count": 46,
     "metadata": {},
     "output_type": "execute_result"
    }
   ],
   "source": [
    "def f(x):\n",
    "    return x**2\n",
    "\n",
    "list(map(f, [1,2,3,4]))"
   ]
  },
  {
   "cell_type": "code",
   "execution_count": 47,
   "metadata": {},
   "outputs": [
    {
     "data": {
      "text/plain": [
       "9"
      ]
     },
     "execution_count": 47,
     "metadata": {},
     "output_type": "execute_result"
    }
   ],
   "source": [
    "(lambda x: x**2)(3)"
   ]
  },
  {
   "cell_type": "code",
   "execution_count": 48,
   "metadata": {},
   "outputs": [
    {
     "data": {
      "text/plain": [
       "[91, 92, 93, 94, 95, 96, 97, 98, 99]"
      ]
     },
     "execution_count": 48,
     "metadata": {},
     "output_type": "execute_result"
    }
   ],
   "source": [
    "list(filter(lambda x: x>90, range(100)))"
   ]
  },
  {
   "cell_type": "markdown",
   "metadata": {},
   "source": [
    "## 궁합이 맞는 함수\n",
    "- filter\n",
    "- zip\n",
    "- map\n",
    "- lambda"
   ]
  },
  {
   "cell_type": "code",
   "execution_count": 49,
   "metadata": {},
   "outputs": [],
   "source": [
    "numbers = [1,2,3,4,5]  # 숫자\n",
    "multipliers = [2,2,2,3,3]  # 승수"
   ]
  },
  {
   "cell_type": "code",
   "execution_count": 50,
   "metadata": {},
   "outputs": [
    {
     "name": "stdout",
     "output_type": "stream",
     "text": [
      "(1, 2)\n",
      "(2, 2)\n",
      "(3, 2)\n",
      "(4, 3)\n",
      "(5, 3)\n",
      "1 2\n",
      "2 2\n",
      "3 2\n",
      "4 3\n",
      "5 3\n"
     ]
    }
   ],
   "source": [
    "for i in zip(numbers, multipliers):\n",
    "    print(i)\n",
    "    \n",
    "for i, j in zip(numbers, multipliers):\n",
    "    print(i, j)"
   ]
  },
  {
   "cell_type": "code",
   "execution_count": 51,
   "metadata": {},
   "outputs": [
    {
     "data": {
      "text/plain": [
       "[(1, 2), (2, 2), (3, 2), (4, 3), (5, 3)]"
      ]
     },
     "execution_count": 51,
     "metadata": {},
     "output_type": "execute_result"
    }
   ],
   "source": [
    "list(zip(numbers, multipliers))  # 숫자와 승수를 zip 으로 맵핑"
   ]
  },
  {
   "cell_type": "code",
   "execution_count": 52,
   "metadata": {},
   "outputs": [
    {
     "data": {
      "text/plain": [
       "[1, 4, 9, 64, 125]"
      ]
     },
     "execution_count": 52,
     "metadata": {},
     "output_type": "execute_result"
    }
   ],
   "source": [
    "list(map(lambda x: x[0]**x[1], zip(numbers, multipliers)))  # 승수한 값 리스트"
   ]
  },
  {
   "cell_type": "code",
   "execution_count": 53,
   "metadata": {},
   "outputs": [
    {
     "data": {
      "text/plain": [
       "[125]"
      ]
     },
     "execution_count": 53,
     "metadata": {},
     "output_type": "execute_result"
    }
   ],
   "source": [
    "list(filter(lambda x: x>=100, map(lambda x: x[0]**x[1], zip(numbers, multipliers))))  # 승수한 값 리스트에서 100 이상인 값"
   ]
  },
  {
   "cell_type": "code",
   "execution_count": 54,
   "metadata": {},
   "outputs": [
    {
     "data": {
      "text/plain": [
       "203"
      ]
     },
     "execution_count": 54,
     "metadata": {},
     "output_type": "execute_result"
    }
   ],
   "source": [
    "sum(list(map(lambda x: x[0]**x[1], zip(numbers, multipliers))))  # 승수한 값 리스트 총 합계"
   ]
  },
  {
   "cell_type": "markdown",
   "metadata": {},
   "source": [
    "## [27]"
   ]
  },
  {
   "cell_type": "markdown",
   "metadata": {},
   "source": [
    "### 파일 입출력"
   ]
  },
  {
   "cell_type": "code",
   "execution_count": 55,
   "metadata": {},
   "outputs": [],
   "source": [
    "# !ls  # 리눅스\n",
    "# !dir  # 윈도우"
   ]
  },
  {
   "cell_type": "code",
   "execution_count": 56,
   "metadata": {},
   "outputs": [],
   "source": [
    "# !mkdir leehojun  # 폴더 생성\n",
    "# !rmdir leehojun  # 폴더 삭제"
   ]
  },
  {
   "cell_type": "markdown",
   "metadata": {},
   "source": [
    "### 파일\n",
    "- 기초\n",
    "    - r - 읽기 모드\n",
    "    - w - 쓰기 모드 => 덮어쓰기\n",
    "    - a - 추가 모드\n",
    "- 심화 (실무에서 쓸 일 거의 없음)\n",
    "    - 바이트 단위로 읽기\n",
    "    - 파일에 내용이 있으면 에러\n",
    "    - 파일 끝에서부터 쓰기"
   ]
  },
  {
   "cell_type": "markdown",
   "metadata": {},
   "source": [
    "### read"
   ]
  },
  {
   "cell_type": "code",
   "execution_count": 57,
   "metadata": {},
   "outputs": [],
   "source": [
    "f = open('test.txt', 'w')\n",
    "f.write('hello world')\n",
    "f.close()"
   ]
  },
  {
   "cell_type": "code",
   "execution_count": 58,
   "metadata": {},
   "outputs": [],
   "source": [
    "f = open('test.txt', 'w')\n",
    "f.write('''hello\n",
    "hello\n",
    "hello\n",
    "hello''')\n",
    "f.close()"
   ]
  },
  {
   "cell_type": "code",
   "execution_count": 59,
   "metadata": {},
   "outputs": [],
   "source": [
    "f = open('test.txt', 'w')\n",
    "s = ''\n",
    "for i in range(10):\n",
    "    s += 'hello\\n'\n",
    "f.write(s)\n",
    "f.close()"
   ]
  },
  {
   "cell_type": "markdown",
   "metadata": {},
   "source": [
    "### write"
   ]
  },
  {
   "cell_type": "code",
   "execution_count": 60,
   "metadata": {},
   "outputs": [
    {
     "name": "stdout",
     "output_type": "stream",
     "text": [
      "hello\n",
      "hello\n",
      "hello\n",
      "hello\n",
      "hello\n",
      "hello\n",
      "hello\n",
      "hello\n",
      "hello\n",
      "hello\n",
      "\n"
     ]
    }
   ],
   "source": [
    "f = open('test.txt', 'r')\n",
    "s = f.read()  # 전체 읽기\n",
    "print(s)\n",
    "f.close()"
   ]
  },
  {
   "cell_type": "code",
   "execution_count": 61,
   "metadata": {},
   "outputs": [
    {
     "name": "stdout",
     "output_type": "stream",
     "text": [
      "hello\n",
      "\n"
     ]
    }
   ],
   "source": [
    "f = open('test.txt', 'r')\n",
    "line = f.readline()  # 한 줄 읽기\n",
    "print(line)\n",
    "f.close()"
   ]
  },
  {
   "cell_type": "code",
   "execution_count": 62,
   "metadata": {},
   "outputs": [
    {
     "name": "stdout",
     "output_type": "stream",
     "text": [
      "hello\n",
      "\n",
      "hello\n",
      "\n",
      "hello\n",
      "\n",
      "hello\n",
      "\n",
      "hello\n",
      "\n"
     ]
    }
   ],
   "source": [
    "f = open('test.txt', 'r')\n",
    "while f.readline():\n",
    "    print(f.readline())\n",
    "f.close()"
   ]
  },
  {
   "cell_type": "code",
   "execution_count": 63,
   "metadata": {},
   "outputs": [
    {
     "name": "stdout",
     "output_type": "stream",
     "text": [
      "hello\n",
      "\n",
      "hello\n",
      "\n",
      "hello\n",
      "\n",
      "hello\n",
      "\n",
      "hello\n",
      "\n",
      "hello\n",
      "\n",
      "hello\n",
      "\n",
      "hello\n",
      "\n",
      "hello\n",
      "\n",
      "hello\n",
      "\n",
      "\n"
     ]
    }
   ],
   "source": [
    "f = open('test.txt', 'r')\n",
    "line = ' '\n",
    "while line:  # 더 이상 읽을 문장이 없으면 반복문 종료\n",
    "    line = f.readline()\n",
    "    print(line)\n",
    "f.close()"
   ]
  },
  {
   "cell_type": "markdown",
   "metadata": {},
   "source": [
    "### append"
   ]
  },
  {
   "cell_type": "code",
   "execution_count": 64,
   "metadata": {},
   "outputs": [],
   "source": [
    "f = open('test.txt', 'a')\n",
    "f.write('test\\n')\n",
    "f.close()"
   ]
  },
  {
   "cell_type": "code",
   "execution_count": 65,
   "metadata": {},
   "outputs": [],
   "source": [
    "with open('test.txt', 'a') as f:\n",
    "    f.write('TEST\\n')"
   ]
  },
  {
   "cell_type": "markdown",
   "metadata": {},
   "source": [
    "### 리스트 객체 쓰기"
   ]
  },
  {
   "cell_type": "code",
   "execution_count": 66,
   "metadata": {},
   "outputs": [],
   "source": [
    "l = [10, 20, 30]\n",
    "\n",
    "with open('test.txt', 'w') as f:\n",
    "    f.write(str(l)+'\\n')"
   ]
  },
  {
   "cell_type": "code",
   "execution_count": 67,
   "metadata": {},
   "outputs": [],
   "source": [
    "l = [10, 20, 30]\n",
    "\n",
    "with open('test.js', 'w') as f:  # 자바스크립트 파일\n",
    "    f.write('var test = ' + str(l))"
   ]
  },
  {
   "cell_type": "code",
   "execution_count": 68,
   "metadata": {},
   "outputs": [],
   "source": [
    "l = ['10 ', '20 ', '30 ']\n",
    "\n",
    "with open('test_2.txt', 'w') as f:\n",
    "    f.writelines(l)"
   ]
  },
  {
   "cell_type": "code",
   "execution_count": 69,
   "metadata": {},
   "outputs": [],
   "source": [
    "l = ['10', ' 20', ' 30']\n",
    "\n",
    "with open('test.csv', 'w') as f:  # 엑셀로 열 수 있음\n",
    "    f.writelines(','.join(l))"
   ]
  },
  {
   "cell_type": "markdown",
   "metadata": {},
   "source": [
    "### 피클링 vs 언피클링\n",
    "- 피클링(Pickling): 오브젝트 자체를 파일로 쓸 수 있는 것\n",
    "- 언피클링(Unpickling): 파일에서 객체를 읽어오는 것"
   ]
  },
  {
   "cell_type": "markdown",
   "metadata": {},
   "source": [
    "## [28]"
   ]
  },
  {
   "cell_type": "markdown",
   "metadata": {},
   "source": [
    "### 순회 가능한 객체(iter, next, slice)\n",
    "- 순회 가능 => 다음 값을 지칭하는 것"
   ]
  },
  {
   "cell_type": "markdown",
   "metadata": {},
   "source": [
    "### 리스트"
   ]
  },
  {
   "cell_type": "code",
   "execution_count": 70,
   "metadata": {},
   "outputs": [
    {
     "name": "stdout",
     "output_type": "stream",
     "text": [
      "0\n",
      "1\n",
      "2\n",
      "3\n",
      "4\n"
     ]
    }
   ],
   "source": [
    "for i in range(5):\n",
    "    print(i)"
   ]
  },
  {
   "cell_type": "code",
   "execution_count": 71,
   "metadata": {},
   "outputs": [
    {
     "name": "stdout",
     "output_type": "stream",
     "text": [
      "<list_iterator object at 0x0000024C3C5FF548>\n",
      "1\n",
      "2\n",
      "3\n"
     ]
    }
   ],
   "source": [
    "l = [1, 2, 3, 4, 5]\n",
    "i = iter(l)  # built-in function\n",
    "\n",
    "print(i)\n",
    "print(i.__next__())  # 매직 메서드\n",
    "print(i.__next__())\n",
    "print(i.__next__())"
   ]
  },
  {
   "cell_type": "code",
   "execution_count": 72,
   "metadata": {},
   "outputs": [
    {
     "name": "stdout",
     "output_type": "stream",
     "text": [
      "<range_iterator object at 0x0000024C3CA171D0>\n",
      "2\n",
      "4\n",
      "6\n"
     ]
    }
   ],
   "source": [
    "r = range(2, 11, 2)\n",
    "j = iter(r)  # built-in function\n",
    "\n",
    "print(j)\n",
    "print(j.__next__())  # 매직 메서드\n",
    "print(j.__next__())\n",
    "print(j.__next__())"
   ]
  },
  {
   "cell_type": "code",
   "execution_count": 73,
   "metadata": {},
   "outputs": [
    {
     "name": "stdout",
     "output_type": "stream",
     "text": [
      "4\n",
      "4\n",
      "[2, 3]\n",
      "[2, 3]\n"
     ]
    }
   ],
   "source": [
    "# a+a -> 매직 메서드 __add__() 과 매칭되었던 것처럼\n",
    "# a[3] -> 매직 메서드 __getitem__(3) 과 매칭됩니다.\n",
    "\n",
    "print(l[3])  # 인덱스 3 위치에 있는 값 가져오기\n",
    "print(l.__getitem__(3))\n",
    "\n",
    "print(l[1:3])  # 슬라이싱\n",
    "print(l.__getitem__(slice(1, 3)))"
   ]
  },
  {
   "cell_type": "markdown",
   "metadata": {},
   "source": [
    "### 세트"
   ]
  },
  {
   "cell_type": "code",
   "execution_count": 74,
   "metadata": {},
   "outputs": [
    {
     "name": "stdout",
     "output_type": "stream",
     "text": [
      "<set_iterator object at 0x0000024C3C57E778>\n",
      "1\n",
      "2\n",
      "3\n"
     ]
    }
   ],
   "source": [
    "s = {1, 2, 3}\n",
    "i = iter(s)  # built-in function\n",
    "\n",
    "print(i)\n",
    "print(i.__next__())  # 매직 메서드\n",
    "print(i.__next__())\n",
    "print(i.__next__())"
   ]
  },
  {
   "cell_type": "code",
   "execution_count": 75,
   "metadata": {},
   "outputs": [],
   "source": [
    "# s.__getitem__(1)  # 에러! set 은 __getitem__() 이 없음"
   ]
  },
  {
   "cell_type": "markdown",
   "metadata": {},
   "source": [
    "### 딕셔너리"
   ]
  },
  {
   "cell_type": "code",
   "execution_count": 76,
   "metadata": {},
   "outputs": [
    {
     "name": "stdout",
     "output_type": "stream",
     "text": [
      "<dict_keyiterator object at 0x0000024C3C55F2C8>\n",
      "one\n",
      "two\n",
      "three\n"
     ]
    }
   ],
   "source": [
    "d = {'one': '하나', 'two': '둘', 'three': '셋'}\n",
    "i = iter(d)  # built-in function\n",
    "\n",
    "print(i)\n",
    "print(i.__next__())  # 매직 메서드\n",
    "print(i.__next__())\n",
    "print(i.__next__())"
   ]
  },
  {
   "cell_type": "code",
   "execution_count": 77,
   "metadata": {},
   "outputs": [
    {
     "data": {
      "text/plain": [
       "'하나'"
      ]
     },
     "execution_count": 77,
     "metadata": {},
     "output_type": "execute_result"
    }
   ],
   "source": [
    "d.__getitem__('one')  # key 값에 해당하는 value 가져오기"
   ]
  },
  {
   "cell_type": "markdown",
   "metadata": {},
   "source": [
    "## [29]"
   ]
  },
  {
   "cell_type": "markdown",
   "metadata": {},
   "source": [
    "### 제너레이터\n",
    "- 개념\n",
    "    - 제너레이터(Generator): 이터레이터로 만들 수 있음\n",
    "        - list(zip([1,2], 'ab'  # 제너레이터 zip(), 이터레이터 list()\n",
    "    - yield: 함수 종료가 아니라 함수 밖으로 값을 전달하는 역할\n",
    "- 왜 필요한가\n",
    "    - 메모리 효율성"
   ]
  },
  {
   "cell_type": "code",
   "execution_count": 78,
   "metadata": {},
   "outputs": [
    {
     "data": {
      "text/plain": [
       "range(0, 10)"
      ]
     },
     "execution_count": 78,
     "metadata": {},
     "output_type": "execute_result"
    }
   ],
   "source": [
    "range(10)  # 이터레이터"
   ]
  },
  {
   "cell_type": "code",
   "execution_count": 79,
   "metadata": {},
   "outputs": [
    {
     "data": {
      "text/plain": [
       "[0, 1, 2, 3, 4, 5, 6, 7, 8, 9]"
      ]
     },
     "execution_count": 79,
     "metadata": {},
     "output_type": "execute_result"
    }
   ],
   "source": [
    "[i for i in range(10)]  # 리스트 => 선언 즉시 메모리 할당해야 함 => 메모리 효율성 낮음 "
   ]
  },
  {
   "cell_type": "code",
   "execution_count": 80,
   "metadata": {},
   "outputs": [
    {
     "name": "stdout",
     "output_type": "stream",
     "text": [
      "0\n",
      "1\n",
      "2\n",
      "3\n",
      "4\n"
     ]
    }
   ],
   "source": [
    "def yield_number():  # range() 역할\n",
    "    yield 0\n",
    "    yield 1\n",
    "    yield 2\n",
    "    yield 3\n",
    "    yield 4\n",
    "    \n",
    "for i in yield_number():\n",
    "    print(i)"
   ]
  },
  {
   "cell_type": "code",
   "execution_count": 81,
   "metadata": {},
   "outputs": [
    {
     "name": "stdout",
     "output_type": "stream",
     "text": [
      "0\n",
      "2\n",
      "4\n",
      "6\n",
      "8\n"
     ]
    }
   ],
   "source": [
    "def yield_number():\n",
    "    x = 0\n",
    "    while x < 10:\n",
    "        if x % 2 == 0:\n",
    "            yield x  # 함수 종료가 아니라 함수 밖으로 값을 전달하는 역할\n",
    "        x += 1\n",
    "    \n",
    "for i in yield_number():\n",
    "    print(i)"
   ]
  },
  {
   "cell_type": "markdown",
   "metadata": {},
   "source": [
    "### 제너레이터 종류\n",
    "- range()\n",
    "- zip()\n",
    "- filter()\n",
    "- map()\n",
    "- 튜플 컴프리헨션\n",
    "- reversed()"
   ]
  },
  {
   "cell_type": "code",
   "execution_count": 82,
   "metadata": {},
   "outputs": [
    {
     "data": {
      "text/plain": [
       "[0, 2, 4, 6, 8]"
      ]
     },
     "execution_count": 82,
     "metadata": {},
     "output_type": "execute_result"
    }
   ],
   "source": [
    "def yield_number(end_num):\n",
    "    x = 0\n",
    "    while x < end_num:\n",
    "        if x % 2 == 0:\n",
    "            yield x  # 함수 종료가 아니라 함수 밖으로 값을 전달하는 역할\n",
    "        x += 1\n",
    "    \n",
    "list(yield_number(10))"
   ]
  },
  {
   "cell_type": "code",
   "execution_count": 83,
   "metadata": {},
   "outputs": [
    {
     "data": {
      "text/plain": [
       "['aa', 'bb', 'cc']"
      ]
     },
     "execution_count": 83,
     "metadata": {},
     "output_type": "execute_result"
    }
   ],
   "source": [
    "list(map(lambda x: x*2, 'abc'))  # 제너레이터 map(), 이터레이터 list()"
   ]
  },
  {
   "cell_type": "code",
   "execution_count": 84,
   "metadata": {},
   "outputs": [
    {
     "data": {
      "text/plain": [
       "[6, 7, 8, 9]"
      ]
     },
     "execution_count": 84,
     "metadata": {},
     "output_type": "execute_result"
    }
   ],
   "source": [
    "list(filter(lambda x: x>5, range(10)))  # 제너레이터 filter(), 이터레이터 list()"
   ]
  },
  {
   "cell_type": "code",
   "execution_count": 85,
   "metadata": {},
   "outputs": [
    {
     "data": {
      "text/plain": [
       "[(1, 'a'), (2, 'b'), (3, 'c')]"
      ]
     },
     "execution_count": 85,
     "metadata": {},
     "output_type": "execute_result"
    }
   ],
   "source": [
    "list(zip([1,2,3], 'abc'))  # 제너레이터 zip(), 이터레이터 list()"
   ]
  },
  {
   "cell_type": "code",
   "execution_count": 86,
   "metadata": {},
   "outputs": [
    {
     "data": {
      "text/plain": [
       "<generator object <genexpr> at 0x0000024C3CAD78C8>"
      ]
     },
     "execution_count": 86,
     "metadata": {},
     "output_type": "execute_result"
    }
   ],
   "source": [
    "(i for i in range(10))  # 제너레이터"
   ]
  },
  {
   "cell_type": "code",
   "execution_count": 87,
   "metadata": {},
   "outputs": [
    {
     "data": {
      "text/plain": [
       "<list_reverseiterator at 0x24c3c5ca1c8>"
      ]
     },
     "execution_count": 87,
     "metadata": {},
     "output_type": "execute_result"
    }
   ],
   "source": [
    "s = [i for i in range(10)]\n",
    "\n",
    "reversed(s)  # 제너레이터 reversed()"
   ]
  },
  {
   "cell_type": "markdown",
   "metadata": {},
   "source": [
    "## [30]"
   ]
  },
  {
   "cell_type": "markdown",
   "metadata": {},
   "source": [
    "### factory 함수, 클로저\n",
    "- 파이썬 디자인 패턴과 관련 있음\n",
    "    - 함수 안 함수, 함수 안 함수 안 변수와 같은 메모리 관계에 대해 알아야 할 필요가 있음\n",
    "- 클로저는 실무에서 자주 쓰이지 않음\n",
    "    - 실무에서는 변수명이 이미 정해져 있기 때문 => 밖에 있는 동일한 변수명을 사용하지 않음"
   ]
  },
  {
   "cell_type": "code",
   "execution_count": 88,
   "metadata": {},
   "outputs": [
    {
     "name": "stdout",
     "output_type": "stream",
     "text": [
      "8\n",
      "9\n",
      "64\n"
     ]
    }
   ],
   "source": [
    "def multiplier(x,y):  # 많이 사용하는 함수라서 패턴화시키고 싶음 => 디자인 패턴 적용\n",
    "    return x**y\n",
    "\n",
    "print(multiplier(2,3))\n",
    "print(multiplier(3,2))\n",
    "print(multiplier(4,3))"
   ]
  },
  {
   "cell_type": "code",
   "execution_count": 89,
   "metadata": {},
   "outputs": [
    {
     "name": "stdout",
     "output_type": "stream",
     "text": [
      "8\n",
      "16\n",
      "32\n"
     ]
    }
   ],
   "source": [
    "def multiplier(n):\n",
    "    def func(x):\n",
    "        return x**n\n",
    "    return func\n",
    "\n",
    "a = multiplier(3)\n",
    "b = multiplier(4)\n",
    "c = multiplier(5)\n",
    "\n",
    "print(a(2))\n",
    "print(b(2))\n",
    "print(c(2))"
   ]
  },
  {
   "cell_type": "code",
   "execution_count": 90,
   "metadata": {},
   "outputs": [
    {
     "name": "stdout",
     "output_type": "stream",
     "text": [
      "8\n",
      "16\n",
      "32\n"
     ]
    }
   ],
   "source": [
    "def multiplier(n):\n",
    "    return lambda x: x**n  # 함수의 n 값을 기억하게 함\n",
    "\n",
    "a = multiplier(3)\n",
    "b = multiplier(4)\n",
    "c = multiplier(5)\n",
    "\n",
    "print(a(2))\n",
    "print(b(2))\n",
    "print(c(2))"
   ]
  },
  {
   "cell_type": "code",
   "execution_count": 91,
   "metadata": {},
   "outputs": [
    {
     "data": {
      "text/plain": [
       "13"
      ]
     },
     "execution_count": 91,
     "metadata": {},
     "output_type": "execute_result"
    }
   ],
   "source": [
    "x = 3  # 전역 변수\n",
    "y = 10  # 전역 변수\n",
    "def func_1():\n",
    "    x = 10  # 지역 변수\n",
    "    y = 20  # 지역 변수\n",
    "    def func_2():\n",
    "        global x, y  # 전역 변수 가져오기\n",
    "        return x+y\n",
    "    return func_2()\n",
    "\n",
    "func_1()"
   ]
  },
  {
   "cell_type": "code",
   "execution_count": 92,
   "metadata": {},
   "outputs": [
    {
     "data": {
      "text/plain": [
       "30"
      ]
     },
     "execution_count": 92,
     "metadata": {},
     "output_type": "execute_result"
    }
   ],
   "source": [
    "x = 3  # 전역 변수\n",
    "y = 10  # 전역 변수\n",
    "def func_1():\n",
    "    x = 10  # 지역 변수\n",
    "    y = 20  # 지역 변수\n",
    "    def func_2():\n",
    "        nonlocal x, y  # func_1 지역 변수 가져오기\n",
    "        return x+y\n",
    "    return func_2()\n",
    "\n",
    "func_1()"
   ]
  },
  {
   "cell_type": "markdown",
   "metadata": {},
   "source": [
    "## [31]"
   ]
  },
  {
   "cell_type": "markdown",
   "metadata": {},
   "source": [
    "### decorator\n",
    "- 클래스 활용까지는 살펴보지 않고 활용할 수 있는 정도까지만 볼 예정\n",
    "- 직관적인 코드가 될 수 있음"
   ]
  },
  {
   "cell_type": "code",
   "execution_count": 93,
   "metadata": {},
   "outputs": [
    {
     "name": "stdout",
     "output_type": "stream",
     "text": [
      "로그인 되었습니다.\n",
      "게시물을 보았습니다.\n",
      "로그아웃 되었습니다.\n",
      "로그인 되었습니다.\n",
      "게시물을 보았습니다.\n",
      "로그아웃 되었습니다.\n",
      "로그인 되었습니다.\n",
      "게시물을 보았습니다.\n",
      "로그아웃 되었습니다.\n"
     ]
    }
   ],
   "source": [
    "print('로그인 되었습니다.')\n",
    "print('게시물을 보았습니다.')\n",
    "print('로그아웃 되었습니다.')\n",
    "\n",
    "print('로그인 되었습니다.')\n",
    "print('게시물을 보았습니다.')\n",
    "print('로그아웃 되었습니다.')\n",
    "\n",
    "print('로그인 되었습니다.')\n",
    "print('게시물을 보았습니다.')\n",
    "print('로그아웃 되었습니다.')"
   ]
  },
  {
   "cell_type": "code",
   "execution_count": 94,
   "metadata": {},
   "outputs": [
    {
     "name": "stdout",
     "output_type": "stream",
     "text": [
      "로그인 되었습니다.\n",
      "게시물을 보았습니다.\n",
      "로그아웃 되었습니다.\n",
      "로그인 되었습니다.\n",
      "게시물을 보았습니다.\n",
      "로그아웃 되었습니다.\n",
      "로그인 되었습니다.\n",
      "게시물을 보았습니다.\n",
      "로그아웃 되었습니다.\n"
     ]
    }
   ],
   "source": [
    "def view_notice():\n",
    "    print('게시물을 보았습니다.')\n",
    "    \n",
    "\n",
    "print('로그인 되었습니다.')\n",
    "view_notice()\n",
    "print('로그아웃 되었습니다.')\n",
    "\n",
    "print('로그인 되었습니다.')\n",
    "view_notice()\n",
    "print('로그아웃 되었습니다.')\n",
    "\n",
    "print('로그인 되었습니다.')\n",
    "view_notice()\n",
    "print('로그아웃 되었습니다.')"
   ]
  },
  {
   "cell_type": "code",
   "execution_count": 95,
   "metadata": {},
   "outputs": [
    {
     "name": "stdout",
     "output_type": "stream",
     "text": [
      "로그인 되었습니다.\n",
      "게시물을 보았습니다.\n",
      "로그아웃 되었습니다.\n",
      "로그인 되었습니다.\n",
      "게시물을 보았습니다.\n",
      "로그아웃 되었습니다.\n",
      "로그인 되었습니다.\n",
      "게시물을 보았습니다.\n",
      "로그아웃 되었습니다.\n"
     ]
    }
   ],
   "source": [
    "def auth():\n",
    "    print('로그인 되었습니다.')\n",
    "    view_notice()\n",
    "    print('로그아웃 되었습니다.')\n",
    "\n",
    "\n",
    "def view_notice():\n",
    "    print('게시물을 보았습니다.')\n",
    "    \n",
    "\n",
    "auth()\n",
    "auth()\n",
    "auth()"
   ]
  },
  {
   "cell_type": "code",
   "execution_count": 96,
   "metadata": {},
   "outputs": [
    {
     "name": "stdout",
     "output_type": "stream",
     "text": [
      "로그인 되었습니다.\n",
      "게시물을 보았습니다.\n",
      "로그아웃 되었습니다.\n"
     ]
    }
   ],
   "source": [
    "def auth(view_notice):\n",
    "    print('로그인 되었습니다.')\n",
    "    view_notice()  # 함수 호출\n",
    "    print('로그아웃 되었습니다.')\n",
    "\n",
    "\n",
    "def view_notice():\n",
    "    print('게시물을 보았습니다.')\n",
    "    \n",
    "\n",
    "auth(view_notice)  # 함수명을 매개변수로 넘김"
   ]
  },
  {
   "cell_type": "code",
   "execution_count": 97,
   "metadata": {},
   "outputs": [
    {
     "name": "stdout",
     "output_type": "stream",
     "text": [
      "로그인 되었습니다.\n",
      "게시물을 보았습니다.\n",
      "로그아웃 되었습니다.\n"
     ]
    }
   ],
   "source": [
    "def auth(fucntion):\n",
    "    def wrapper():\n",
    "        print('로그인 되었습니다.')\n",
    "        fucntion()  # 함수 호출\n",
    "        print('로그아웃 되었습니다.')\n",
    "    return wrapper\n",
    "\n",
    "\n",
    "@auth  # 로그인 인증을 거쳐야만 view_notice 를 쓸 수 있음\n",
    "def view_notice():\n",
    "    print('게시물을 보았습니다.')\n",
    "    \n",
    "\n",
    "# [순서]\n",
    "# 1. @auth 를 통해 auth(view_notice) 호출\n",
    "# 2. auth(view_notice) 에서 wrapper 함수 리턴 => wrapper() 호출\n",
    "# 3. function 이 view_notice 이므로 view_notice() 호출\n",
    "view_notice()"
   ]
  },
  {
   "cell_type": "code",
   "execution_count": 98,
   "metadata": {},
   "outputs": [
    {
     "name": "stdout",
     "output_type": "stream",
     "text": [
      "로그인 되었습니다.\n",
      "3 번 게시물을 보았습니다.\n",
      "로그아웃 되었습니다.\n"
     ]
    }
   ],
   "source": [
    "def auth(fucntion):\n",
    "    def wrapper(notice_num):\n",
    "        print('로그인 되었습니다.')\n",
    "        fucntion(notice_num)  # 함수 호출\n",
    "        print('로그아웃 되었습니다.')\n",
    "    return wrapper\n",
    "\n",
    "\n",
    "@auth  # 로그인 인증을 거쳐야만 view_notice 를 쓸 수 있음\n",
    "def view_notice(notice_num):\n",
    "    print(notice_num, '번 게시물을 보았습니다.')\n",
    "    \n",
    "\n",
    "# [순서]\n",
    "# 1. @auth 를 통해 auth(view_notice) 호출\n",
    "# 2. auth(view_notice) 에서 wrapper 함수 리턴 => wrapper(notice_num) 호출\n",
    "# 3. function 이 view_notice 이므로 view_notice(notice_num) 호출\n",
    "view_notice(3)"
   ]
  },
  {
   "cell_type": "markdown",
   "metadata": {},
   "source": [
    "## [32]"
   ]
  },
  {
   "cell_type": "markdown",
   "metadata": {},
   "source": [
    "### 예외처리\n",
    "- 무중단 서비스 운영하기 위한 기본 조건\n",
    "- 여러 상황의 에러를 발생시키고 대처 방법까지 메모해두면 좋음\n",
    "- 에러 발생하면 문자로 발송시켜서 바로 조치 가능하게끔 함"
   ]
  },
  {
   "cell_type": "code",
   "execution_count": 99,
   "metadata": {},
   "outputs": [
    {
     "name": "stdout",
     "output_type": "stream",
     "text": [
      "error\n"
     ]
    }
   ],
   "source": [
    "x = [1,2,3]\n",
    "\n",
    "try:\n",
    "    x[5] += 10  # 에러 발생 => 정상 실행 실패\n",
    "except:\n",
    "    print('error')  # 정상 종료"
   ]
  },
  {
   "cell_type": "code",
   "execution_count": 100,
   "metadata": {},
   "outputs": [
    {
     "name": "stdout",
     "output_type": "stream",
     "text": [
      "error\n"
     ]
    }
   ],
   "source": [
    "x = [1,2,3]\n",
    "\n",
    "try:\n",
    "    x[5] += 10  # 에러 발생 => 정상 실행 실패\n",
    "except IndexError:\n",
    "    print('error')  # 정상 종료"
   ]
  },
  {
   "cell_type": "code",
   "execution_count": 101,
   "metadata": {},
   "outputs": [
    {
     "ename": "TypeError",
     "evalue": "unsupported operand type(s) for /: 'list' and 'int'",
     "output_type": "error",
     "traceback": [
      "\u001b[1;31m---------------------------------------------------------------------------\u001b[0m",
      "\u001b[1;31mTypeError\u001b[0m                                 Traceback (most recent call last)",
      "\u001b[1;32m~\\AppData\\Local\\Temp\\ipykernel_307156\\3494039705.py\u001b[0m in \u001b[0;36m<module>\u001b[1;34m\u001b[0m\n\u001b[0;32m      2\u001b[0m \u001b[1;33m\u001b[0m\u001b[0m\n\u001b[0;32m      3\u001b[0m \u001b[1;32mtry\u001b[0m\u001b[1;33m:\u001b[0m\u001b[1;33m\u001b[0m\u001b[1;33m\u001b[0m\u001b[0m\n\u001b[1;32m----> 4\u001b[1;33m     \u001b[0mx\u001b[0m\u001b[1;33m[\u001b[0m\u001b[1;36m0\u001b[0m\u001b[1;33m]\u001b[0m \u001b[1;33m=\u001b[0m \u001b[1;33m[\u001b[0m\u001b[1;36m0\u001b[0m\u001b[1;33m]\u001b[0m \u001b[1;33m/\u001b[0m \u001b[1;36m0\u001b[0m  \u001b[1;31m# 에러 발생 => 정상 실행 실패\u001b[0m\u001b[1;33m\u001b[0m\u001b[1;33m\u001b[0m\u001b[0m\n\u001b[0m\u001b[0;32m      5\u001b[0m \u001b[1;32mexcept\u001b[0m \u001b[0mZeroDivisionError\u001b[0m\u001b[1;33m:\u001b[0m\u001b[1;33m\u001b[0m\u001b[1;33m\u001b[0m\u001b[0m\n\u001b[0;32m      6\u001b[0m     \u001b[0mprint\u001b[0m\u001b[1;33m(\u001b[0m\u001b[1;34m'error'\u001b[0m\u001b[1;33m)\u001b[0m  \u001b[1;31m# 정상 종료\u001b[0m\u001b[1;33m\u001b[0m\u001b[1;33m\u001b[0m\u001b[0m\n",
      "\u001b[1;31mTypeError\u001b[0m: unsupported operand type(s) for /: 'list' and 'int'"
     ]
    }
   ],
   "source": [
    "x = [1,2,3]\n",
    "\n",
    "try:\n",
    "    x[0] = [0] / 0  # 에러 발생 => 정상 실행 실패\n",
    "except ZeroDivisionError:\n",
    "    print('error')  # 정상 종료"
   ]
  },
  {
   "cell_type": "code",
   "execution_count": null,
   "metadata": {},
   "outputs": [],
   "source": [
    "x = [1,2,3]\n",
    "\n",
    "try:\n",
    "    x[1] += 10\n",
    "except ZeroDivisionError:\n",
    "    print('error')  # 정상 종료\n",
    "else:  # 에러 없이 정상적으로 실행됐을 경우\n",
    "    print(x[1])"
   ]
  },
  {
   "cell_type": "code",
   "execution_count": null,
   "metadata": {},
   "outputs": [],
   "source": [
    "x = [1,2,3]\n",
    "\n",
    "try:\n",
    "    x[1] += 10\n",
    "except ZeroDivisionError:\n",
    "    print('error')  # 정상 종료\n",
    "else:  # 에러 없이 정상적으로 실행됐을 경우\n",
    "    print(x[1])\n",
    "finally:  # 에러 상관없이 무조건 실행됨\n",
    "    print('end')"
   ]
  },
  {
   "cell_type": "code",
   "execution_count": null,
   "metadata": {},
   "outputs": [],
   "source": [
    "x = [1,2,3]\n",
    "\n",
    "try:\n",
    "    x[1] /= 0\n",
    "except ZeroDivisionError:\n",
    "    print('error')  # 정상 종료\n",
    "else:  # 에러 없이 정상적으로 실행됐을 경우\n",
    "    print(x[1])\n",
    "finally:  # 에러 상관없이 무조건 실행됨\n",
    "    print('end')"
   ]
  },
  {
   "cell_type": "code",
   "execution_count": null,
   "metadata": {},
   "outputs": [],
   "source": [
    "x = [1,2,3]\n",
    "\n",
    "try:\n",
    "    x[1] /= 0\n",
    "except ZeroDivisionError:\n",
    "    print('error')  # 정상 종료\n",
    "else:  # 에러 없이 정상적으로 실행됐을 경우\n",
    "    print(x[1])\n",
    "finally:  # 에러 상관없이 무조건 실행됨\n",
    "    print('end')"
   ]
  },
  {
   "cell_type": "code",
   "execution_count": null,
   "metadata": {},
   "outputs": [],
   "source": [
    "x = [1,2,3]\n",
    "\n",
    "try:\n",
    "    x[1] += 10\n",
    "    raise  # 에러 강제로 발생시킴 => finally 구문만 실행됨\n",
    "except ZeroDivisionError:\n",
    "    print('error')  # 정상 종료\n",
    "else:  # 에러 없이 정상적으로 실행됐을 경우\n",
    "    print(x[1])\n",
    "finally:  # 에러 상관없이 무조건 실행됨\n",
    "    print('end')"
   ]
  },
  {
   "cell_type": "code",
   "execution_count": null,
   "metadata": {},
   "outputs": [],
   "source": [
    "x = [1,2,3]\n",
    "\n",
    "try:\n",
    "    x[1] += 10\n",
    "    raise IndexError  # IndexError 에러 강제로 발생시킴 => finally 구문만 실행됨\n",
    "except ZeroDivisionError:\n",
    "    print('zero division error')  # 정상 종료\n",
    "except IndexError:\n",
    "    print('index error')  # 정상 종료\n",
    "else:  # 에러 없이 정상적으로 실행됐을 경우\n",
    "    print(x[1])\n",
    "finally:  # 에러 상관없이 무조건 실행됨\n",
    "    print('end')"
   ]
  },
  {
   "cell_type": "code",
   "execution_count": null,
   "metadata": {},
   "outputs": [],
   "source": []
  }
 ],
 "metadata": {
  "kernelspec": {
   "display_name": "Python 3.7.9 64-bit",
   "language": "python",
   "name": "python3"
  },
  "language_info": {
   "codemirror_mode": {
    "name": "ipython",
    "version": 3
   },
   "file_extension": ".py",
   "mimetype": "text/x-python",
   "name": "python",
   "nbconvert_exporter": "python",
   "pygments_lexer": "ipython3",
   "version": "3.7.9"
  },
  "orig_nbformat": 4,
  "vscode": {
   "interpreter": {
    "hash": "3ec8f960e0975f51287e8165d08686f9ae08290820c06850049a40d7e3ef31b8"
   }
  }
 },
 "nbformat": 4,
 "nbformat_minor": 2
}
